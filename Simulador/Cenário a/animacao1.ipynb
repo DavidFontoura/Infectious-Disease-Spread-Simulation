{
 "cells": [
  {
   "cell_type": "markdown",
   "metadata": {},
   "source": [
    "#  Gerador de animações"
   ]
  },
  {
   "cell_type": "markdown",
   "metadata": {},
   "source": [
    "Este notebook importa do ficheiro `resultados.txt` a sequência de configurações geradas durante a simulação e gera a animação correspondente. "
   ]
  },
  {
   "cell_type": "markdown",
   "metadata": {},
   "source": [
    "### 1. Inicialização "
   ]
  },
  {
   "cell_type": "markdown",
   "metadata": {},
   "source": [
    "A célula seguinte deve ser avaliada no início de cada sessão."
   ]
  },
  {
   "cell_type": "code",
   "execution_count": 1,
   "metadata": {},
   "outputs": [],
   "source": [
    "import numpy as np\n",
    "import matplotlib.pyplot as plt\n",
    "import matplotlib.animation as animation\n",
    "import ast\n",
    "import datetime\n",
    "\n",
    "%matplotlib nbagg"
   ]
  },
  {
   "cell_type": "markdown",
   "metadata": {},
   "source": [
    "### 2. Leitura do ficheiro de dados"
   ]
  },
  {
   "cell_type": "markdown",
   "metadata": {},
   "source": [
    "Os dados ficheiro ``resultados.txt`` são importados para as variáveis ``Dim``, ``lista`` e ``obstaculos``. A célula seguinte deve ser avaliada sempre que o ficheiro resultados.txt for alterado."
   ]
  },
  {
   "cell_type": "code",
   "execution_count": 2,
   "metadata": {},
   "outputs": [
    {
     "data": {
      "text/plain": [
       "5850"
      ]
     },
     "execution_count": 2,
     "metadata": {},
     "output_type": "execute_result"
    }
   ],
   "source": [
    "f=open('resultados.txt','r')\n",
    "lista=[]\n",
    "for line in f:\n",
    "    lista.append(ast.literal_eval(line))\n",
    "    \n",
    "f.close()\n",
    "Dim=lista[0]\n",
    "obstaculos=lista[1]\n",
    "nobst=len(obstaculos)\n",
    "lista=lista[2:]\n",
    "max_point=max([len(w[0])+len(w[1])+len(w[2])+len(w[3]) for w in lista])+nobst+1\n",
    "len(lista)"
   ]
  },
  {
   "cell_type": "markdown",
   "metadata": {},
   "source": [
    "### 3. Animação (dentro deste notebook)"
   ]
  },
  {
   "cell_type": "markdown",
   "metadata": {},
   "source": [
    "A célula seguinte deve ser avaliada para gerar a animação."
   ]
  },
  {
   "cell_type": "code",
   "execution_count": 5,
   "metadata": {},
   "outputs": [
    {
     "data": {
      "image/png": "[encoded data removed]",
      "text/plain": [
       "<Figure size 432x288 with 1 Axes>"
      ]
     },
     "metadata": {
      "needs_background": "light"
     },
     "output_type": "display_data"
    }
   ],
   "source": [
    "fig=plt.figure()\n",
    "ax = fig.add_subplot(111, aspect='equal', autoscale_on=False, xlim=(-Dim-2,Dim+2), ylim=(-Dim-2,Dim+2))\n",
    "\n",
    "#desenha as grelhas (desfasadas das coordenadas certas para os pontos ficarem centrados) - check limites\n",
    "for i in range(-Dim,Dim):\n",
    "    lines, = ax.plot([-Dim-0.5,Dim+0.5],[i+0.5,i+0.5],'-',color='0.75')\n",
    "for i in range(-Dim,Dim):\n",
    "    lines, = ax.plot([i+0.5,i+0.5],[-Dim-0.5,Dim+0.5],'-',color='0.75')\n",
    "    \n",
    "\n",
    "# valor inicial dos pontos\n",
    "ponto=[[] for i in range(max_point)]\n",
    "for i in range(max_point):\n",
    "    ponto[i], = ax.plot([],[], marker='o',markersize=2)\n",
    "\n",
    "for j in range(nobst):\n",
    "    ponto[j].set_data(obstaculos[j][0],obstaculos[j][1])\n",
    "    ponto[j].set_color(\"black\")\n",
    "    \n",
    "def animate(i):\n",
    "    frame=lista[i]\n",
    "    k=nobst\n",
    "    for j in range(k,k+len(frame[0])):\n",
    "        ponto[j].set_data(frame[0][j-k][0],frame[0][j-k][1])\n",
    "        ponto[j].set_color(\"green\")\n",
    "    k=k+len(frame[0])\n",
    "    for j in range(k,k+len(frame[1])):\n",
    "        ponto[j].set_data(frame[1][j-k][0],frame[1][j-k][1])\n",
    "        ponto[j].set_color(\"orange\")\n",
    "    k=k+len(frame[1])\n",
    "    for j in range(k,k+len(frame[2])):\n",
    "        ponto[j].set_data(frame[2][j-k][0],frame[2][j-k][1])\n",
    "        ponto[j].set_color(\"red\")\n",
    "    k=k+len(frame[2])\n",
    "    for j in range(k,k+len(frame[3])):\n",
    "        ponto[j].set_data(frame[3][j-k][0],frame[3][j-k][1])\n",
    "        ponto[j].set_color(\"blue\")\n",
    "    k=k+len(frame[3])\n",
    "    for j in range(k,max_point):\n",
    "        ponto[j].set_color(\"white\")\n",
    "    return ponto\n",
    "\n",
    "ani = animation.FuncAnimation(fig, animate, frames=len(lista), interval=1, repeat=True, blit=True)\n",
    "plt.show()"
   ]
  },
  {
   "cell_type": "markdown",
   "metadata": {},
   "source": [
    "### 4. Animação (para um ficheiro mp4)"
   ]
  },
  {
   "cell_type": "markdown",
   "metadata": {},
   "source": [
    "A célula seguinte deve ser avaliada para gerar um ficheiro de animação. Note que para usar esta célula é necessário ter previamente instalado no computador a biblioteca open-cv. Esta biblioteca pode ser instalada com o comando ``conda install -c anaconda opencv`` no terminal do computador."
   ]
  },
  {
   "cell_type": "code",
   "execution_count": 6,
   "metadata": {},
   "outputs": [
    {
     "ename": "ModuleNotFoundError",
     "evalue": "No module named 'cv2'",
     "output_type": "error",
     "traceback": [
      "\u001b[1;31m---------------------------------------------------------------------------\u001b[0m",
      "\u001b[1;31mModuleNotFoundError\u001b[0m                       Traceback (most recent call last)",
      "\u001b[1;32m<ipython-input-6-8f47f5818744>\u001b[0m in \u001b[0;36m<module>\u001b[1;34m\u001b[0m\n\u001b[0;32m      1\u001b[0m \u001b[1;32mfrom\u001b[0m \u001b[0mPIL\u001b[0m \u001b[1;32mimport\u001b[0m \u001b[0mImage\u001b[0m\u001b[1;33m,\u001b[0m \u001b[0mImageDraw\u001b[0m\u001b[1;33m\u001b[0m\u001b[1;33m\u001b[0m\u001b[0m\n\u001b[1;32m----> 2\u001b[1;33m \u001b[1;32mimport\u001b[0m \u001b[0mcv2\u001b[0m\u001b[1;33m\u001b[0m\u001b[1;33m\u001b[0m\u001b[0m\n\u001b[0m\u001b[0;32m      3\u001b[0m \u001b[1;32mimport\u001b[0m \u001b[0margparse\u001b[0m\u001b[1;33m\u001b[0m\u001b[1;33m\u001b[0m\u001b[0m\n\u001b[0;32m      4\u001b[0m \u001b[1;32mimport\u001b[0m \u001b[0mos\u001b[0m\u001b[1;33m\u001b[0m\u001b[1;33m\u001b[0m\u001b[0m\n\u001b[0;32m      5\u001b[0m \u001b[1;33m\u001b[0m\u001b[0m\n",
      "\u001b[1;31mModuleNotFoundError\u001b[0m: No module named 'cv2'"
     ]
    }
   ],
   "source": [
    "from PIL import Image, ImageDraw\n",
    "import cv2\n",
    "import argparse\n",
    "import os\n",
    "\n",
    "def from_grid_to_jpg(g,filename,export_flag = True):\n",
    "    white  = (255, 255, 255)\n",
    "    black  = (0, 0, 0)\n",
    "    blue   = (0, 0, 255)\n",
    "    red    = (255, 0, 0)\n",
    "    green  = (0,128,0)\n",
    "    orange = (255,165,0)\n",
    "    \n",
    "    width,height = 2*g[0]+1,2*g[0]+1\n",
    "    image = Image.new(\"RGB\", (width, height), white)\n",
    "    draw  = ImageDraw.Draw(image) \n",
    "    \n",
    "    for (x,y) in g[1][0]:\n",
    "        draw.line((x+g[0]+1,y+g[0]+1,x+g[0]+1,y+g[0]+1), green)\n",
    "    for (x,y) in g[1][1]:\n",
    "        draw.line((x+g[0]+1,y+g[0]+1,x+g[0]+1,y+g[0]+1), orange)\n",
    "    for (x,y) in g[1][2]:\n",
    "        draw.line((x+g[0]+1,y+g[0]+1,x+g[0]+1,y+g[0]+1), red)\n",
    "    for (x,y) in g[1][3]:\n",
    "        draw.line((x+g[0]+1,y+g[0]+1,x+g[0]+1,y+g[0]+1), blue)\n",
    "    for (x,y) in g[2]:\n",
    "        draw.line((x+g[0]+1,y+g[0]+1,x+g[0]+1,y+g[0]+1), black)\n",
    "    if export_flag:\n",
    "        image.save(filename)\n",
    "\n",
    "\n",
    "\n",
    "def simVideo(Dim,lista,obstaculos,jumps,Video_flag = True):\n",
    "    frame_nr = len(lista)\n",
    "    try:\n",
    "        os.stat('./tempDir')\n",
    "    except:\n",
    "        os.mkdir('./tempDir') \n",
    "    dir_path = './tempDir/'\n",
    "    ext      = 'jpg' \n",
    "    date     = datetime.datetime.now().strftime(\"%I:%M:%S%p_%B-%d-%Y\");\n",
    "    output   = 'output'+date+'.mp4' \n",
    "\n",
    "    \n",
    "    [from_grid_to_jpg([Dim,lista[i],obstaculos],dir_path+str(i)+\".jpg\") for i in range(0,frame_nr,jumps)]    \n",
    "\n",
    "    \n",
    "\n",
    "    images = []\n",
    "    for i in range(0,frame_nr,jumps):\n",
    "        images.append(str(i)+\".jpg\")\n",
    "   \n",
    "    # Determine the width and height from the first image\n",
    "    image_path = os.path.join(dir_path, images[0])\n",
    "\n",
    "    \n",
    "    frame = cv2.imread(image_path)\n",
    "    cv2.imshow('video',frame)\n",
    "    height, width, channels = frame.shape\n",
    "\n",
    "    \n",
    "    # Define the codec and create VideoWriter object\n",
    "    fourcc = cv2.VideoWriter_fourcc(*'mp4v') # Be sure to use lower case\n",
    "    out = cv2.VideoWriter(output, fourcc, float(10), (width, height))\n",
    "\n",
    "\n",
    "    for image in images:\n",
    "\n",
    "        image_path = os.path.join(dir_path, image)\n",
    "        frame = cv2.imread(image_path)\n",
    "\n",
    "        out.write(frame) # Write out frame to video\n",
    "\n",
    "        cv2.imshow('video',frame)\n",
    "        if (cv2.waitKey(1) & 0xFF) == ord('q'): # Hit `q` to exit\n",
    "            break\n",
    "\n",
    "\n",
    "    # Release everything if job is finished\n",
    "    out.release()\n",
    "    cv2.destroyAllWindows()\n",
    "    for image in images:\n",
    "        os.remove(os.path.join(dir_path,image))\n",
    "    os.rmdir(dir_path)\n",
    "\n",
    "\n",
    "#O quarto parametro da função (50) de quantas em quantas linhas de resultados.txt é gerada uma imagem\n",
    "# Pode ser aumentado no caso de ficheiros resultado.txt muito grandes.\n",
    "\n",
    "simVideo(Dim,lista,obstaculos,50) "
   ]
  },
  {
   "cell_type": "code",
   "execution_count": null,
   "metadata": {
    "collapsed": true
   },
   "outputs": [],
   "source": []
  }
 ],
 "metadata": {
  "kernelspec": {
   "display_name": "Python 3",
   "language": "python",
   "name": "python3"
  },
  "language_info": {
   "codemirror_mode": {
    "name": "ipython",
    "version": 3
   },
   "file_extension": ".py",
   "mimetype": "text/x-python",
   "name": "python",
   "nbconvert_exporter": "python",
   "pygments_lexer": "ipython3",
   "version": "3.7.4"
  }
 },
 "nbformat": 4,
 "nbformat_minor": 2
}
